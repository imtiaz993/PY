{
 "cells": [
  {
   "cell_type": "code",
   "execution_count": 63,
   "metadata": {},
   "outputs": [
    {
     "name": "stdout",
     "output_type": "stream",
     "text": [
      "Enter Marks of first subject : 90\n",
      "Enter Marks of second subject : 90\n",
      "Enter Marks of third subject : 90\n",
      "Enter Marks of fourth subject : 50\n",
      "Enter Marks of fourth subject : 34\n",
      "You have got grade A\n"
     ]
    }
   ],
   "source": [
    "#Q.1 Marks Sheet\n",
    "s1=int(input(\"Enter Marks of first subject : \"))\n",
    "s2=int(input(\"Enter Marks of second subject : \"))\n",
    "s3=int(input(\"Enter Marks of third subject : \"))\n",
    "s4=int(input(\"Enter Marks of fourth subject : \"))\n",
    "s5=int(input(\"Enter Marks of fifth subject : \"))\n",
    "e=(s1+s2+s3+s4+s5)/5\n",
    "if e<=100 and e>=80:\n",
    "    print(\"You have got grade A+\")\n",
    "elif e<80 and e>=70:\n",
    "    print(\"You have got grade A\")\n",
    "elif e<70 and e>=60:\n",
    "    print(\"You have got grade B\")\n",
    "elif e<50 and e>=40:\n",
    "    print(\"You have got grade C\")\n",
    "elif e<40 and e>=33:\n",
    "    print(\"You have got grade D\")\n",
    "elif e<33 and e>=0:\n",
    "    print(\"Sorry, You are fail\")\n",
    "else:\n",
    "    print(\"You have entered inaccurate marks\")"
   ]
  },
  {
   "cell_type": "code",
   "execution_count": 64,
   "metadata": {},
   "outputs": [
    {
     "name": "stdout",
     "output_type": "stream",
     "text": [
      "Enter Number : 98\n",
      "It is an Even Number\n"
     ]
    }
   ],
   "source": [
    "#Q.2 Even Odd\n",
    "num=int(input(\"Enter Number : \"))\n",
    "if num%2==0:\n",
    "    print(\"It is an Even Number\")\n",
    "else:\n",
    "    print(\"It is an Odd Number\")"
   ]
  },
  {
   "cell_type": "code",
   "execution_count": 65,
   "metadata": {},
   "outputs": [
    {
     "name": "stdout",
     "output_type": "stream",
     "text": [
      "7\n"
     ]
    }
   ],
   "source": [
    "#Q.3 Length of List\n",
    "a=[1,\"a\",\"b\",3,\"c\",4,5]\n",
    "l=len(a)\n",
    "print(l)\n"
   ]
  },
  {
   "cell_type": "code",
   "execution_count": 67,
   "metadata": {},
   "outputs": [
    {
     "name": "stdout",
     "output_type": "stream",
     "text": [
      "112\n"
     ]
    }
   ],
   "source": [
    "#Q.4 Sum of all Numeric values\n",
    "a=[1,1,2,5,3,100]\n",
    "\n",
    "c=a[0]+a[1]+a[2]+a[3]+a[4]+a[5]\n",
    "print (c)"
   ]
  },
  {
   "cell_type": "code",
   "execution_count": 70,
   "metadata": {},
   "outputs": [
    {
     "name": "stdout",
     "output_type": "stream",
     "text": [
      "greater number is :  98\n"
     ]
    }
   ],
   "source": [
    "#Q.5 Largest Number in List\n",
    "arr =[1,11,67,98]\n",
    "a=arr[0]\n",
    "b=arr[1]\n",
    "c=arr[2]\n",
    "d=arr[3]\n",
    "if a>b and a> c and a>d:\n",
    "    print(\"greater number is \",a)\n",
    "elif b > a and b >c and b >d:\n",
    "    print(\"greater number is \",b)\n",
    "elif c >a and c >b and c>d:\n",
    "    print(\"greater number is \",c)\n",
    "elif d>a and d>b and d> c:\n",
    "    print(\"greater number is : \",d)\n"
   ]
  },
  {
   "cell_type": "code",
   "execution_count": 72,
   "metadata": {},
   "outputs": [
    {
     "name": "stdout",
     "output_type": "stream",
     "text": [
      "1\n",
      "1\n",
      "2\n",
      "3\n"
     ]
    }
   ],
   "source": [
    "#Q.6 Number Less Than 5 in List\n",
    "a=[1,1,2,3,5,8,23,21]\n",
    "if a[0]<5:\n",
    "    print(a[0])\n",
    "if a[1]<5:\n",
    "    print(a[1])\n",
    "if a[2]<5:\n",
    "    print(a[2])\n",
    "if a[3]<5:\n",
    "    print(a[3])\n",
    "if a[4]<5:\n",
    "    print(a[4])\n",
    "if a[5]<5:\n",
    "    print(a[5])\n",
    "if a[6]<5:\n",
    "    print(a[6])\n",
    "if a[7]<5:\n",
    "    print([7])\n",
    "    "
   ]
  }
 ],
 "metadata": {
  "kernelspec": {
   "display_name": "Python 3",
   "language": "python",
   "name": "python3"
  },
  "language_info": {
   "codemirror_mode": {
    "name": "ipython",
    "version": 3
   },
   "file_extension": ".py",
   "mimetype": "text/x-python",
   "name": "python",
   "nbconvert_exporter": "python",
   "pygments_lexer": "ipython3",
   "version": "3.7.4"
  }
 },
 "nbformat": 4,
 "nbformat_minor": 2
}
